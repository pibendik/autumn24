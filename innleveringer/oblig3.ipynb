{
 "cells": [
  {
   "cell_type": "markdown",
   "metadata": {},
   "source": [
    "# Oblig 3, IN4070, 2024\n",
    "#### SAT solver (non-naïve)\n",
    "#### Bendik Østrem Svalastog"
   ]
  },
  {
   "cell_type": "code",
   "execution_count": 8,
   "metadata": {},
   "outputs": [
    {
     "name": "stdout",
     "output_type": "stream",
     "text": [
      "Hello, Martin Giese and Maham Iftikhar!\n"
     ]
    }
   ],
   "source": [
    "print(\"Hello, Martin Giese and Maham Iftikhar!\")"
   ]
  },
  {
   "cell_type": "markdown",
   "metadata": {},
   "source": [
    "I want to solve a bunch of SAT problems, like:\n",
    "\n",
    "```python\n",
    "{{p, q, r},\n",
    "{-p, q, r},\n",
    "{p, -q, r}, \n",
    "{p, q, -r},\n",
    "{-p, -q, r}, \n",
    "{-p, q, -r},\n",
    "{p, -q, -r},\n",
    "{-p, -q, -r}}\n",
    "```\n",
    "\n",
    "A simple *naïve* SAT solver will not be good enough, even though they are structurally very similar.\n",
    "\n",
    "Keywords will be *simplification* and *unit propagation*, as discussed in class.\n",
    "\n",
    "From wikipedia, I got the following algorithm:\n",
    "Algorithm DPLL\n",
    "    Input: A set of clauses Φ.\n",
    "    Output: A truth value indicating whether Φ is satisfiable.\n",
    "\n",
    "```\n",
    "def DPLL(Φ):\n",
    "    # unit propagation:\n",
    "    while there is a unit clause {l} in Φ:\n",
    "        Φ = unit_propagate(l, Φ)\n",
    "    # pure literal elimination:\n",
    "    while there is a literal l that occurs pure in Φ:\n",
    "        Φ = pure_literal_assign(l, Φ)\n",
    "    # stopping conditions:\n",
    "    if not Φ:\n",
    "        return True\n",
    "    if any(clause == [] for clause in Φ):\n",
    "        return False\n",
    "    # DPLL procedure:\n",
    "    l = choose_literal(Φ)\n",
    "    return DPLL(Φ + [{l}]) or DPLL(Φ + [{¬l}])\n",
    "\n",
    "# \"←\" denotes assignment. For instance, \"largest ← item\" means that the value of largest changes to the value of item.\n",
    "# \"return\" terminates the algorithm and outputs the following value.\n",
    "```\n",
    "## Generating clauses\n",
    "First off, I want to generate all possible clauses for a given number of variables.\n",
    "Unless I misunderstood, when generating all possible clauses with 2**n literals, removing any 1 of them will result in a satisfiable clause.\n",
    "\n",
    "the *generate_clauses()* function I made with the help of github copilot, as it seemed trivial and unimportant for my learning to code it by myself. \n"
   ]
  },
  {
   "cell_type": "code",
   "execution_count": 11,
   "metadata": {},
   "outputs": [
    {
     "name": "stdout",
     "output_type": "stream",
     "text": [
      "Clauses for n=3:\n",
      "[1, 2]\n",
      "[1, -2]\n",
      "[-1, 2]\n",
      "[-1, -2]\n",
      "\n",
      "And clauses without the first one:\n",
      "[1, -2]\n",
      "[-1, 2]\n",
      "[-1, -2]\n"
     ]
    }
   ],
   "source": [
    "def generate_clauses(n):\n",
    "    from itertools import product\n",
    "    \n",
    "    # Generate all possible combinations of literals and their negations\n",
    "    literals = range(1, n + 1)\n",
    "    all_combinations = product([1, -1], repeat=n)\n",
    "    \n",
    "    # Create clauses from combinations\n",
    "    clauses = []\n",
    "    for combination in all_combinations:\n",
    "        clause = [literal * sign for literal, sign in zip(literals, combination)]\n",
    "        clauses.append(clause)\n",
    "    \n",
    "    return clauses\n",
    "\n",
    "def generate_clauses_minus_one(n):\n",
    "    clauses = generate_clauses(n)\n",
    "    clauses.pop(0)\n",
    "    return clauses\n",
    "\n",
    "print(\"Clauses for n=3:\")\n",
    "n = 2\n",
    "clauses = generate_clauses(n)\n",
    "for clause in clauses:\n",
    "    print(clause)\n",
    "\n",
    "\n",
    "\n",
    "\n",
    "# Example usage\n",
    "print(\"\\nAnd clauses without the first one:\")\n",
    "clauses = generate_clauses_minus_one(n)\n",
    "for clause in clauses:\n",
    "    print(clause)"
   ]
  },
  {
   "cell_type": "markdown",
   "metadata": {},
   "source": [
    "## some clarifications\n",
    "\n",
    "I used the term \"pure_literals\" because it seemed fitting from the wikipedia article on DPLL\n",
    "\n",
    "\n"
   ]
  },
  {
   "cell_type": "code",
   "execution_count": 10,
   "metadata": {},
   "outputs": [
    {
     "name": "stdout",
     "output_type": "stream",
     "text": [
      "Satisfiable\n"
     ]
    }
   ],
   "source": [
    "def unit_propagate(literal, clauses):\n",
    "    new_clauses = []\n",
    "    for clause in clauses:\n",
    "        if literal in clause:\n",
    "            continue  # Clause is satisfied, skip it\n",
    "        new_clause = [l for l in clause if l != -literal]\n",
    "        if not new_clause:\n",
    "            return None  # Found an empty clause\n",
    "        new_clauses.append(new_clause)\n",
    "    return new_clauses\n",
    "\n",
    "def pure_literal_assign(clauses):\n",
    "    # Create a set of all literals present in the clauses\n",
    "    literals = {literal for clause in clauses for literal in clause}\n",
    "    \n",
    "    # Identify literals that appear with only one \"polarity\" (positive or negative)\n",
    "    # A literal is pure if its negation is not present in the set of literals\n",
    "    # I use python's set comprehension for making the code more readable\n",
    "    #    The syntax {expression for item in iterable if condition} is a set comprehension.\n",
    "    #    It iterates over each item in the iterable, applies the condition, and \n",
    "    #    includes the expression in the resulting set if the condition is True.\n",
    "    pure_literals = {literal for literal in literals if -literal not in literals}\n",
    "    \n",
    "    # For each pure literal, remove all clauses that contain the pure literal\n",
    "    for literal in pure_literals:\n",
    "        clauses = [clause for clause in clauses if literal not in clause]\n",
    "    \n",
    "    # Return the modified list of clauses\n",
    "    return clauses\n",
    "\n",
    "def choose_literal(clauses):\n",
    "    for clause in clauses:\n",
    "        for literal in clause:\n",
    "            return literal\n",
    "\n",
    "def DPLL(clauses):\n",
    "    # While there is a unit clause in the list of clauses\n",
    "    # \"any()\" returns True if at least one clause has a length of 1.\n",
    "    while any(len(clause) == 1 for clause in clauses):\n",
    "        # Find the first unit clause (a clause with only one literal)\n",
    "        unit_clause = next(clause[0] for clause in clauses if len(clause) == 1)\n",
    "        \n",
    "        # Perform unit propagation with the found unit clause\n",
    "        clauses = unit_propagate(unit_clause, clauses)\n",
    "        \n",
    "        # If unit propagation results in an empty clause, return False (unsatisfiable)\n",
    "        if clauses is None:\n",
    "            return False\n",
    "\n",
    "    # Pure literal elimination\n",
    "    clauses = pure_literal_assign(clauses)\n",
    "\n",
    "    # Stopping conditions\n",
    "    if not clauses:\n",
    "        return True\n",
    "    if any(not clause for clause in clauses):\n",
    "        return False\n",
    "\n",
    "    # DPLL procedure\n",
    "    literal = choose_literal(clauses)\n",
    "    return DPLL(unit_propagate(literal, clauses)) or DPLL(unit_propagate(-literal, clauses))\n",
    "\n",
    "# Example usage\n",
    "clauses = generate_clauses_minus_one(16)\n",
    "\n",
    "result = DPLL(clauses)\n",
    "\n",
    "print(\"Satisfiable\" if result else \"Unsatisfiable\")"
   ]
  },
  {
   "attachments": {
    "image-2.png": {
     "image/png": "[encoded data removed]"
    },
    "image.png": {
     "image/png": "[encoded data removed]"
    }
   },
   "cell_type": "markdown",
   "metadata": {},
   "source": [
    "## Results\n",
    "For clauses with input 22, it took 2m23s to reach the conclusion that it's unsatisfiable.\n",
    "\n",
    "![image.png](attachment:image.png)\n",
    "\n",
    "... whereas when I removed one single clause (which I did by using the *generate_clauses_minus_one()* function that simply removes the first element), the output \"satisfiable\" was reached in 1m46s\n",
    "\n",
    "![image-2.png](attachment:image-2.png)\n",
    "\n",
    "I didn't feel like testing larger sets of clauses."
   ]
  },
  {
   "cell_type": "markdown",
   "metadata": {},
   "source": []
  }
 ],
 "metadata": {
  "kernelspec": {
   "display_name": "Python 3",
   "language": "python",
   "name": "python3"
  },
  "language_info": {
   "codemirror_mode": {
    "name": "ipython",
    "version": 3
   },
   "file_extension": ".py",
   "mimetype": "text/x-python",
   "name": "python",
   "nbconvert_exporter": "python",
   "pygments_lexer": "ipython3",
   "version": "3.12.3"
  }
 },
 "nbformat": 4,
 "nbformat_minor": 2
}
